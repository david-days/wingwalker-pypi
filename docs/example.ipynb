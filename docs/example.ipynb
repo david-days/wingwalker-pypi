{
 "cells": [
  {
   "cell_type": "markdown",
   "source": [
    "# Example usage\n",
    "\n",
    "To use `wingwalker` in a project:"
   ],
   "metadata": {}
  },
  {
   "cell_type": "code",
   "source": [
    "import wingwalker\n",
    "\n",
    "print(wingwalker.__version__)"
   ],
   "metadata": {
    "ExecuteTime": {
     "end_time": "2025-09-06T22:58:43.210351Z",
     "start_time": "2025-09-06T22:58:43.190739Z"
    }
   },
   "outputs": [
    {
     "ename": "ModuleNotFoundError",
     "evalue": "No module named 'wingwalker'",
     "output_type": "error",
     "traceback": [
      "\u001B[31m---------------------------------------------------------------------------\u001B[39m",
      "\u001B[31mModuleNotFoundError\u001B[39m                       Traceback (most recent call last)",
      "\u001B[36mCell\u001B[39m\u001B[36m \u001B[39m\u001B[32mIn[2]\u001B[39m\u001B[32m, line 1\u001B[39m\n\u001B[32m----> \u001B[39m\u001B[32m1\u001B[39m \u001B[38;5;28;01mimport\u001B[39;00m\u001B[38;5;250m \u001B[39m\u001B[34;01mwingwalker\u001B[39;00m\n\u001B[32m      3\u001B[39m \u001B[38;5;28mprint\u001B[39m(wingwalker.__version__)\n",
      "\u001B[31mModuleNotFoundError\u001B[39m: No module named 'wingwalker'"
     ]
    }
   ],
   "execution_count": 2
  }
 ],
 "metadata": {
  "kernelspec": {
   "display_name": "Python 3",
   "language": "python",
   "name": "python3"
  },
  "language_info": {
   "codemirror_mode": {
    "name": "ipython",
    "version": 3
   },
   "file_extension": ".py",
   "mimetype": "text/x-python",
   "name": "python",
   "nbconvert_exporter": "python",
   "pygments_lexer": "ipython3",
   "version": "3.8.5"
  }
 },
 "nbformat": 4,
 "nbformat_minor": 4
}
